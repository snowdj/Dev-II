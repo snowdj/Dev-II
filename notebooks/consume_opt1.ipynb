{
 "cells": [
  {
   "cell_type": "markdown",
   "metadata": {},
   "source": [
    "# Consumer Choice and Intertemporal Choice"
   ]
  },
  {
   "cell_type": "markdown",
   "metadata": {},
   "source": [
    "We setup and solve a very simple generic one-period consumer choice problem over two goods.  We later specialize to the case of intertemporal trade over two periods and choice over lotteries.  The consumer is assumed to have time-consistent preofereces.  Later, in a separate notebook, we look at a a three period model where consumers have time-inconsistent (quasi-hyperbolic) preferences.\n",
    "\n",
    "[The code](#codesection) to generate the static and interactive figures is at the end of this notebook (and should be run first to make this interactive)."
   ]
  },
  {
   "cell_type": "markdown",
   "metadata": {},
   "source": [
    "## Choice over two goods"
   ]
  },
  {
   "cell_type": "markdown",
   "metadata": {},
   "source": [
    "A consumer chooses a consumption bundle to maximize Cobb-Douglas utility \n",
    "\n",
    "$$U(c_1,c_2) = c_1^\\alpha c_2^{\\beta}$$\n",
    "\n",
    "subject to the budget constraint\n",
    "\n",
    "$$p_1 c_1 + p_2 c_2 \\leq I $$"
   ]
  },
  {
   "cell_type": "markdown",
   "metadata": {},
   "source": [
    "To plot the budget constraint we rearrange to get:\n",
    "\n",
    "$$c_2 = \\frac{I}{p_2} - \\frac{p_1}{p_2} c_1$$\n",
    "\n",
    "Likewise, to draw the indifference curve defined by $u(c_1,c_2) = \\bar u$ we solve for $c_2$ to get:\n",
    "\n",
    "$$c_2 = \\left( \\frac{\\bar u}{c_1^\\alpha}\\right)^\\frac{1}{\\beta}$$"
   ]
  },
  {
   "cell_type": "markdown",
   "metadata": {},
   "source": [
    "For Cobb-Douglas utility the marginal rate of substitution (MRS) between $c_2$ and $c_1$ is:\n",
    "\n",
    "$$MRS = \\frac{U_1}{U_2} = \\frac{\\alpha}{\\beta} \\frac{c_2}{c_1}$$\n",
    "\n",
    "where $U_1 =\\frac{\\partial U}{\\partial c_1}$ and $U_2 =\\frac{\\partial U}{\\partial c_2}$"
   ]
  },
  {
   "cell_type": "code",
   "execution_count": 17,
   "metadata": {},
   "outputs": [
    {
     "data": {
      "image/png": "[encoded data removed]",
      "text/plain": [
       "<matplotlib.figure.Figure at 0x883ec18>"
      ]
     },
     "metadata": {},
     "output_type": "display_data"
    }
   ],
   "source": [
    "consume_plot()"
   ]
  },
  {
   "cell_type": "markdown",
   "metadata": {},
   "source": [
    "## The consumer's optimum\n",
    "\n",
    "$$L(c_1,c_2) = U(c_1,c_2) + \\lambda (I - p_1 c_1  - p_2 c_2) $$\n",
    "\n",
    "\n",
    "\n",
    "\n",
    "Differentiate with respect to $c_1$ and $c_2$ and $\\lambda$ to get:\n",
    "\n",
    "$$ U_1 = \\lambda{p_1}$$\n",
    "\n",
    "$$ U_2 = \\lambda{p_2}$$\n",
    "\n",
    "$$ I = p_1 c_1  + p_2 c_2$$"
   ]
  },
  {
   "cell_type": "markdown",
   "metadata": {},
   "source": [
    "Dividing the first equation by the second we get the familiar necessary tangency condition for an interior optimum:\n",
    "\n",
    "$$MRS = \\frac{U_1}{U_2} =\\frac{p_1}{p_2}$$\n",
    "\n",
    "Using our earlier expression for the MRS of a Cobb-Douglas indifference curve, substituting this into the budget constraint and rearranging then allows us to solve for the **Marshallian demand functions**:"
   ]
  },
  {
   "cell_type": "markdown",
   "metadata": {},
   "source": [
    "$$c_1(p_1,p_2,I)=\\frac{\\alpha}{\\alpha+\\beta} \\frac{I}{p_1}$$\n",
    "\n",
    "$$c_1(p_1,p_2,I)=\\frac{\\beta}{\\alpha+\\beta} \\frac{I}{p_2}$$"
   ]
  },
  {
   "cell_type": "markdown",
   "metadata": {},
   "source": [
    "Interactive plot with sliders (visible if if running on a notebook server):"
   ]
  },
  {
   "cell_type": "code",
   "execution_count": 20,
   "metadata": {},
   "outputs": [
    {
     "data": {
      "application/vnd.jupyter.widget-view+json": {
       "model_id": "de701884dcf740d2bfeba29e4db33bf9",
       "version_major": 2,
       "version_minor": 0
      },
      "text/plain": [
       "interactive(children=(FloatSlider(value=1.0, description='p1', max=4.0, min=1.0), FloatSlider(value=1.0, descr…"
      ]
     },
     "metadata": {},
     "output_type": "display_data"
    }
   ],
   "source": [
    "interact(consume_plot,p1=(pmin,pmax,0.1),p2=(pmin,pmax,0.1), I=(Imin,Imax,10),alpha=(0.05,0.95,0.05));"
   ]
  },
  {
   "cell_type": "markdown",
   "metadata": {},
   "source": [
    "## The expenditure function"
   ]
  },
  {
   "cell_type": "markdown",
   "metadata": {},
   "source": [
    "The indirect utility function:\n",
    "\n",
    "$$v(p_1,p_2,I) = u(c_1(p_1,p_2,I),c_2(p_1,p_2,I))$$\n"
   ]
  },
  {
   "cell_type": "markdown",
   "metadata": {},
   "source": [
    "$$c_1(p_1,p_2,I)=\\alpha \\frac{I}{p_1}$$\n",
    "\n",
    "$$c_1(p_1,p_2,I)=(1-\\alpha)\\frac{I}{p_2}$$"
   ]
  },
  {
   "cell_type": "markdown",
   "metadata": {},
   "source": [
    "$$v(p_1,p_2,I) = I \\cdot  \\alpha^\\alpha (1-\\alpha)^{1-\\alpha} \\cdot \n",
    "\\left [ \\frac{p_2}{p_1} \\right ]^\\alpha \\frac{1}{p_2} $$"
   ]
  },
  {
   "cell_type": "markdown",
   "metadata": {},
   "source": [
    "$$E(p_z,p_2,\\bar u) = \\frac{\\bar u}{\\alpha^\\alpha (1-\\alpha)^{1-\\alpha} \\cdot \n",
    "\\left [ \\frac{p_2}{p_1} \\right ]^\\alpha \\frac{1}{p_2}}$$"
   ]
  },
  {
   "cell_type": "markdown",
   "metadata": {},
   "source": [
    "To minimize expenditure needed to achieve level of utility $\\bar u$ we solve:\n",
    "\n",
    "$$\\min_{c_1,c_2} p_1 c_1 + p_2 c_2 $$\n",
    "\n",
    "s.t.\n",
    "\n",
    "$$u(c_1, c_2) =\\bar u$$\n",
    "\n",
    "The first order conditions are identical to those we got for the utility maximization problem, and hence we have the same tangency\n",
    "\n",
    "$$\\frac{U_1}{U_2} = \\frac{\\alpha}{1-\\alpha} \\frac{c_2}{c_1} = \\frac{p_1}{p_2}$$"
   ]
  },
  {
   "cell_type": "markdown",
   "metadata": {},
   "source": [
    "From this we can solve:   $$c_2 = \\frac{p_1}{p_2} \\frac{1-\\alpha}{\\alpha} c_1  $$\n",
    "\n",
    "Now substitute this into the constraint to get:\n",
    "\n",
    "$$ u \\left ( c_1, \\frac{p_1}{p_2} \\frac{1-\\alpha}{\\alpha} c_1  \\right )=\\bar u$$\n",
    "\n",
    "$$ u \\left ( c_1, \\frac{p_1}{p_2} \\frac{1-\\alpha}{\\alpha} c_1  \\right )=\\bar u$$\n"
   ]
  },
  {
   "cell_type": "markdown",
   "metadata": {},
   "source": [
    "## Intertemporal Consumption choices"
   ]
  },
  {
   "cell_type": "markdown",
   "metadata": {},
   "source": [
    "We now look at the special case of intertemporal consumption, or consumption of the same good (say corn) over two periods.  As modeled below the consumer's income is now given by the market value of and endowment bundle $(y_1,y_2)$."
   ]
  },
  {
   "cell_type": "markdown",
   "metadata": {},
   "source": [
    "The variables $c_1$ and $c_2$ now refer to consumption of (say corn) in period 1 and period 2. \n",
    "\n",
    "As is typical of intertemporal maximization problems we will use a time-additive utility function.  The consumer who has access to a competitive financial market (they can borrow or save at interest rate $r$) maximizes:\n",
    "\n",
    "$$U(c_1,c_2) = u(c_1) + \\delta u(c_2)$$\n",
    "\n",
    "subject to the intertemporal budget constraint:\n",
    "\n",
    "$$ c_1 + \\frac{c_2}{1+r}  = y_1 + \\frac{y_2}{1+r} $$"
   ]
  },
  {
   "cell_type": "markdown",
   "metadata": {},
   "source": [
    "This is just like an ordinary utility maximization problem with prices $p_1 = 1$ and $p_2 =\\frac{1}{1+r}$.  Think of it this way, the price of corn is \\$1 per unit in each period, but \\$1 in period 1 can be placed into savings that will grow to $(1+r)$ dollars in period 2.  That means that from the standpoint of period 1 owning one unit of corn (or one dollar worth of corn) in period 2 is the equivalent of owning $\\frac{1}{1+r}$ units of corn today (because placed in savings that amount of period 1 corn would grow to $\\frac{1+r}{1+r} = 1$ units of corn in period 2)."
   ]
  },
  {
   "cell_type": "markdown",
   "metadata": {},
   "source": [
    "The first order necessary condition for an interior optimum is:\n",
    "\n",
    "$$u'(c_1^*) = \\delta u'(c_2^*)$$"
   ]
  },
  {
   "cell_type": "markdown",
   "metadata": {},
   "source": [
    "Let's adopt the widely used Constant-Relative Risk Aversion (CRRA) felicity function of the form:\n",
    "\n",
    "$$\n",
    "\\begin{equation}\n",
    "u\\left(c_{t}\\right)=\\begin{cases}\n",
    "\\frac{c^{1-\\rho}}{1-\\rho}, & \\text{if } \\rho>0 \\text{ and } \\rho \\neq 1 \\\\\n",
    "ln\\left(c\\right) & \\text{if } \\rho=1\n",
    "\\end{cases}\n",
    "\\end{equation}\n",
    "$$"
   ]
  },
  {
   "cell_type": "markdown",
   "metadata": {},
   "source": [
    "The first order condition then becomes simply\n",
    "\n",
    "$${c_1^*}^{-\\rho} = \\delta (1+r) {c_2^*}^{-\\rho}$$\n",
    "\n",
    "or \n",
    "\n",
    "$$c_2^* = \\left [\\delta (1+r) \\right]^\\frac{1}{\\rho}c_1^* $$"
   ]
  },
  {
   "cell_type": "markdown",
   "metadata": {},
   "source": [
    "From the binding budget constraint we also have\n",
    "\n",
    "$$c_2^* = E[y](1+r)-c_1^*(1+r)$$\n",
    "\n",
    "where $E[y] = y_1 + \\frac{y_2}{1+r}$\n",
    "\n",
    "Solving for $c_1^*$ (from the FOC and this binding budget):\n",
    "\n",
    "$$c_1^*  = \\frac{E[y]}{1+\\frac{\\left [\\delta (1+r) \\right]^\\frac{1}{\\rho}}{1+r}}$$"
   ]
  },
  {
   "cell_type": "markdown",
   "metadata": {},
   "source": [
    "If we simplify to the simple case where $\\delta =\\frac{1}{1+r}$, where the consumer discounts future consumption at the same rate as the market interest rate then at an optimum the consumer will keep their consumption flat at $c_2^* = c_1^*$.  If we specialize further and assume that $r=0$ then the consumer will set  $c_2^* = c_1^* =\\frac{y_1+y_2}{2}$"
   ]
  },
  {
   "cell_type": "markdown",
   "metadata": {},
   "source": [
    "## Saving and borrowing visualized"
   ]
  },
  {
   "cell_type": "markdown",
   "metadata": {},
   "source": [
    "Let us visualize the situation.  The consumer has CRRA preferences as described above (summarized by parameters $\\delta$ and $\\rho$ and starts with an income endowment $(y_1, y_2)$. The market cost of funds is $r$.  "
   ]
  },
  {
   "cell_type": "markdown",
   "metadata": {},
   "source": [
    "### A savings case\n",
    "In the diagram below the consumer is seen to be saving, i.e.  $s_1^* = y_1 - c_1^* >0$."
   ]
  },
  {
   "cell_type": "code",
   "execution_count": 23,
   "metadata": {},
   "outputs": [
    {
     "data": {
      "image/png": "[encoded data removed]",
      "text/plain": [
       "<matplotlib.figure.Figure at 0xa4f5470>"
      ]
     },
     "metadata": {},
     "output_type": "display_data"
    }
   ],
   "source": [
    "consume_plot2(r, delta, rho, y1, y2)"
   ]
  },
  {
   "cell_type": "markdown",
   "metadata": {},
   "source": [
    "Interactive plot with sliders (visible if if running on a notebook server):"
   ]
  },
  {
   "cell_type": "code",
   "execution_count": 21,
   "metadata": {},
   "outputs": [
    {
     "data": {
      "application/vnd.jupyter.widget-view+json": {
       "model_id": "4e681dfc590344c3adfccd61e903ad82",
       "version_major": 2,
       "version_minor": 0
      },
      "text/plain": [
       "interactive(children=(FloatSlider(value=0.0, description='r', max=1.0), FloatSlider(value=0.7, description='de…"
      ]
     },
     "metadata": {},
     "output_type": "display_data"
    }
   ],
   "source": [
    "interact(consume_plot2, r=(rmin,rmax,0.1), rho=fixed(rho), delta=(0.5,1,0.1), y1=(10,100,1), y2=(10,100,1));"
   ]
  },
  {
   "cell_type": "code",
   "execution_count": 12,
   "metadata": {
    "collapsed": true
   },
   "outputs": [],
   "source": [
    "c1e, c2e, uebar = find_opt2(r, rho, delta, y1, y2)"
   ]
  },
  {
   "cell_type": "markdown",
   "metadata": {},
   "source": [
    "In this particular case the consumer consumes:"
   ]
  },
  {
   "cell_type": "code",
   "execution_count": 13,
   "metadata": {},
   "outputs": [
    {
     "data": {
      "text/plain": [
       "(50.0, 50.0)"
      ]
     },
     "execution_count": 13,
     "metadata": {},
     "output_type": "execute_result"
    }
   ],
   "source": [
    "c1e, c2e"
   ]
  },
  {
   "cell_type": "markdown",
   "metadata": {},
   "source": [
    "Her endowment is "
   ]
  },
  {
   "cell_type": "code",
   "execution_count": 14,
   "metadata": {},
   "outputs": [
    {
     "data": {
      "text/plain": [
       "(80, 20)"
      ]
     },
     "execution_count": 14,
     "metadata": {},
     "output_type": "execute_result"
    }
   ],
   "source": [
    "y1,y2"
   ]
  },
  {
   "cell_type": "markdown",
   "metadata": {},
   "source": [
    "And she therefore saves "
   ]
  },
  {
   "cell_type": "code",
   "execution_count": 15,
   "metadata": {},
   "outputs": [
    {
     "data": {
      "text/plain": [
       "30.0"
      ]
     },
     "execution_count": 15,
     "metadata": {},
     "output_type": "execute_result"
    }
   ],
   "source": [
    "y1-c1e"
   ]
  },
  {
   "cell_type": "markdown",
   "metadata": {},
   "source": [
    "in period 1.  "
   ]
  },
  {
   "cell_type": "markdown",
   "metadata": {},
   "source": [
    "### A borrowing case\n",
    "In the diagram below the consumer is seen to be borrowing, i.e.  $s_1^* = y_1 - c_1^* <0$."
   ]
  },
  {
   "cell_type": "code",
   "execution_count": 16,
   "metadata": {},
   "outputs": [
    {
     "data": {
      "image/png": "[encoded data removed]",
      "text/plain": [
       "<matplotlib.figure.Figure at 0x8fb3a58>"
      ]
     },
     "metadata": {},
     "output_type": "display_data"
    }
   ],
   "source": [
    "y1,y2 = 20,80\n",
    "consume_plot2(r, delta, rho, y1, y2)"
   ]
  },
  {
   "cell_type": "markdown",
   "metadata": {},
   "source": [
    "<a id='codesection'></a>\n",
    "## Code section \n",
    "Run the code below first to re-generate the figures and interactions above."
   ]
  },
  {
   "cell_type": "code",
   "execution_count": 1,
   "metadata": {
    "collapsed": true
   },
   "outputs": [],
   "source": [
    "%matplotlib inline\n",
    "import numpy as np\n",
    "import matplotlib.pyplot as plt\n",
    "from ipywidgets import interact, fixed"
   ]
  },
  {
   "cell_type": "markdown",
   "metadata": {},
   "source": [
    "#### Code for simple consumer choice"
   ]
  },
  {
   "cell_type": "code",
   "execution_count": 2,
   "metadata": {
    "collapsed": true
   },
   "outputs": [],
   "source": [
    "def U(c1, c2, alpha):\n",
    "    return (c1**alpha)*(c2**(1-alpha))\n",
    "\n",
    "def budgetc(c1, p1, p2, I):\n",
    "    return (I/p2)-(p1/p2)*c1\n",
    "\n",
    "def indif(c1, ubar, alpha):\n",
    "    return (ubar/(c1**alpha))**(1/(1-alpha))"
   ]
  },
  {
   "cell_type": "code",
   "execution_count": 3,
   "metadata": {
    "collapsed": true
   },
   "outputs": [],
   "source": [
    "def find_opt(p1,p2,I,alpha):\n",
    "    c1 = alpha * I/p1\n",
    "    c2 = (1-alpha)*I/p2\n",
    "    u = U(c1,c2,alpha)\n",
    "    return c1, c2, u"
   ]
  },
  {
   "cell_type": "markdown",
   "metadata": {},
   "source": [
    "Parameters for default plot"
   ]
  },
  {
   "cell_type": "code",
   "execution_count": 4,
   "metadata": {
    "collapsed": true
   },
   "outputs": [],
   "source": [
    "alpha = 0.5\n",
    "p1, p2 = 1, 1\n",
    "I = 100\n",
    "\n",
    "pmin, pmax = 1, 4\n",
    "Imin, Imax = 10, 200\n",
    "cmax = (3/4)*Imax/pmin"
   ]
  },
  {
   "cell_type": "code",
   "execution_count": 5,
   "metadata": {
    "collapsed": true
   },
   "outputs": [],
   "source": [
    "def consume_plot(p1=p1, p2=p2, I=I, alpha=alpha):\n",
    "    \n",
    "    c1 = np.linspace(0.1,cmax,num=100)\n",
    "    c1e, c2e, uebar = find_opt(p1, p2 ,I, alpha)\n",
    "    idfc = indif(c1, uebar, alpha)\n",
    "    budg = budgetc(c1, p1, p2, I)\n",
    "    \n",
    "    fig, ax = plt.subplots(figsize=(8,8))\n",
    "    ax.plot(c1, budg, lw=2.5)\n",
    "    ax.plot(c1, idfc, lw=2.5)\n",
    "    ax.vlines(c1e,0,c2e, linestyles=\"dashed\")\n",
    "    ax.hlines(c2e,0,c1e, linestyles=\"dashed\")\n",
    "    ax.plot(c1e,c2e,'ob')\n",
    "    ax.set_xlim(0, cmax)\n",
    "    ax.set_ylim(0, cmax)\n",
    "    ax.set_xlabel(r'$c_1$', fontsize=16)\n",
    "    ax.set_ylabel('$c_2$', fontsize=16)\n",
    "    ax.spines['right'].set_visible(False)\n",
    "    ax.spines['top'].set_visible(False)\n",
    "    ax.grid()\n",
    "    plt.show()"
   ]
  },
  {
   "cell_type": "markdown",
   "metadata": {},
   "source": [
    "#### Code for intertemporal Choice model"
   ]
  },
  {
   "cell_type": "code",
   "execution_count": 6,
   "metadata": {
    "collapsed": true
   },
   "outputs": [],
   "source": [
    "def u(c, rho):\n",
    "    return (1/rho)* c**(1-rho)\n",
    "\n",
    "def U2(c1, c2, rho, delta):\n",
    "    return u(c1, rho) + delta*u(c2, rho)\n",
    "\n",
    "def budget2(c1, r, y1, y2):\n",
    "    Ey = y1 + y2/(1+r)\n",
    "    return Ey*(1+r) - c1*(1+r)\n",
    "\n",
    "def indif2(c1, ubar, rho, delta):\n",
    "    return  ( ((1-rho)/delta)*(ubar - u(c1, rho)) )**(1/(1-rho))"
   ]
  },
  {
   "cell_type": "code",
   "execution_count": 7,
   "metadata": {
    "collapsed": true
   },
   "outputs": [],
   "source": [
    "def find_opt2(r, rho, delta, y1, y2):\n",
    "    Ey = y1 + y2/(1+r)\n",
    "    A = (delta*(1+r))**(1/rho)\n",
    "    c1 = Ey/(1+A/(1+r))\n",
    "    c2 = c1*A\n",
    "    u = U2(c1, c2, rho, delta)\n",
    "    return c1, c2, u"
   ]
  },
  {
   "cell_type": "markdown",
   "metadata": {},
   "source": [
    "Parameters for default plot"
   ]
  },
  {
   "cell_type": "code",
   "execution_count": 8,
   "metadata": {
    "collapsed": true
   },
   "outputs": [],
   "source": [
    "rho = 0.5\n",
    "delta = 1\n",
    "r = 0\n",
    "y1, y2 = 80, 20\n",
    "\n",
    "rmin, rmax = 0, 1\n",
    "cmax = 150"
   ]
  },
  {
   "cell_type": "code",
   "execution_count": 9,
   "metadata": {
    "collapsed": true
   },
   "outputs": [],
   "source": [
    "def consume_plot2(r, delta, rho, y1, y2):\n",
    "    \n",
    "    c1 = np.linspace(0.1,cmax,num=100)\n",
    "    c1e, c2e, uebar = find_opt2(r, rho, delta, y1, y2)\n",
    "    idfc = indif2(c1, uebar, rho, delta)\n",
    "    budg = budget2(c1,  r, y1, y2)\n",
    "    \n",
    "    fig, ax = plt.subplots(figsize=(8,8))\n",
    "    ax.plot(c1, budg, lw=2.5)\n",
    "    ax.plot(c1, idfc, lw=2.5)\n",
    "    ax.vlines(c1e,0,c2e, linestyles=\"dashed\")\n",
    "    ax.hlines(c2e,0,c1e, linestyles=\"dashed\")\n",
    "    ax.plot(c1e,c2e,'ob')\n",
    "    ax.vlines(y1,0,y2, linestyles=\"dashed\")\n",
    "    ax.hlines(y2,0,y1, linestyles=\"dashed\")\n",
    "    ax.plot(y1,y2,'ob')\n",
    "    ax.text(y1-6,y2-6,r'$y^*$',fontsize=16)\n",
    "    ax.set_xlim(0, cmax)\n",
    "    ax.set_ylim(0, cmax)\n",
    "    ax.set_xlabel(r'$c_1$', fontsize=16)\n",
    "    ax.set_ylabel('$c_2$', fontsize=16)\n",
    "    ax.spines['right'].set_visible(False)\n",
    "    ax.spines['top'].set_visible(False)\n",
    "    ax.grid()\n",
    "    plt.show()"
   ]
  },
  {
   "cell_type": "markdown",
   "metadata": {},
   "source": [
    "### Interactive plot"
   ]
  },
  {
   "cell_type": "code",
   "execution_count": 19,
   "metadata": {},
   "outputs": [
    {
     "data": {
      "image/png": "[encoded data removed]",
      "text/plain": [
       "<matplotlib.figure.Figure at 0xa1b9240>"
      ]
     },
     "metadata": {},
     "output_type": "display_data"
    }
   ],
   "source": [
    "interact(consume_plot2, r=(rmin,rmax,0.1), rho=fixed(rho), delta=(0.5,1,0.1), y1=(10,100,1), y2=(10,100,1));"
   ]
  },
  {
   "cell_type": "code",
   "execution_count": null,
   "metadata": {
    "collapsed": true
   },
   "outputs": [],
   "source": []
  }
 ],
 "metadata": {
  "hide_input": false,
  "kernelspec": {
   "display_name": "Python 3",
   "language": "python",
   "name": "python3"
  },
  "language_info": {
   "codemirror_mode": {
    "name": "ipython",
    "version": 3
   },
   "file_extension": ".py",
   "mimetype": "text/x-python",
   "name": "python",
   "nbconvert_exporter": "python",
   "pygments_lexer": "ipython3",
   "version": "3.6.2"
  },
  "varInspector": {
   "cols": {
    "lenName": 16,
    "lenType": 16,
    "lenVar": 40
   },
   "kernels_config": {
    "python": {
     "delete_cmd_postfix": "",
     "delete_cmd_prefix": "del ",
     "library": "var_list.py",
     "varRefreshCmd": "print(var_dic_list())"
    },
    "r": {
     "delete_cmd_postfix": ") ",
     "delete_cmd_prefix": "rm(",
     "library": "var_list.r",
     "varRefreshCmd": "cat(var_dic_list()) "
    }
   },
   "types_to_exclude": [
    "module",
    "function",
    "builtin_function_or_method",
    "instance",
    "_Feature"
   ],
   "window_display": false
  },
  "widgets": {
   "application/vnd.jupyter.widget-state+json": {
    "state": {
     "000573796cae4e33991206e02d29dc44": {
      "model_module": "@jupyter-widgets/base",
      "model_module_version": "1.0.0",
      "model_name": "LayoutModel",
      "state": {}
     },
     "02300c7749ab44109cea92918b6af503": {
      "model_module": "@jupyter-widgets/controls",
      "model_module_version": "1.2.0",
      "model_name": "SliderStyleModel",
      "state": {
       "description_width": ""
      }
     },
     "03c1f223312e46aeb5e38cd5d2549f20": {
      "model_module": "@jupyter-widgets/controls",
      "model_module_version": "1.2.0",
      "model_name": "SliderStyleModel",
      "state": {
       "description_width": ""
      }
     },
     "05e43573d2894358be2f63e28c1ece57": {
      "model_module": "@jupyter-widgets/controls",
      "model_module_version": "1.2.0",
      "model_name": "FloatSliderModel",
      "state": {
       "description": "p2",
       "layout": "IPY_MODEL_dc7e73debe5b4b299e5035355d64895a",
       "max": 4,
       "min": 1,
       "step": 0.1,
       "style": "IPY_MODEL_02300c7749ab44109cea92918b6af503",
       "value": 1
      }
     },
     "081771854fe3476db29ca9cf2fbb7d0c": {
      "model_module": "@jupyter-widgets/controls",
      "model_module_version": "1.2.0",
      "model_name": "SliderStyleModel",
      "state": {
       "description_width": ""
      }
     },
     "088ef9cfdbb54298ae1cefa21722b0af": {
      "model_module": "@jupyter-widgets/controls",
      "model_module_version": "1.2.0",
      "model_name": "SliderStyleModel",
      "state": {
       "description_width": ""
      }
     },
     "0988ac514cae46f6b31d4892e32740a6": {
      "model_module": "@jupyter-widgets/controls",
      "model_module_version": "1.2.0",
      "model_name": "IntSliderModel",
      "state": {
       "description": "y2",
       "layout": "IPY_MODEL_000573796cae4e33991206e02d29dc44",
       "min": 10,
       "style": "IPY_MODEL_bd561cc495da40e0ba5fa017f006b4a4",
       "value": 55
      }
     },
     "0a148db4d2e4442ea36224245b543ab6": {
      "model_module": "@jupyter-widgets/base",
      "model_module_version": "1.0.0",
      "model_name": "LayoutModel",
      "state": {}
     },
     "0cfef710301f4f8da00e53f9ffe7cb8b": {
      "model_module": "@jupyter-widgets/base",
      "model_module_version": "1.0.0",
      "model_name": "LayoutModel",
      "state": {}
     },
     "0de68081b67944e99d54cf7f699e7e9a": {
      "model_module": "@jupyter-widgets/controls",
      "model_module_version": "1.2.0",
      "model_name": "SliderStyleModel",
      "state": {
       "description_width": ""
      }
     },
     "1542419e083b4b3b83a455d6a3a1dc51": {
      "model_module": "@jupyter-widgets/controls",
      "model_module_version": "1.2.0",
      "model_name": "SliderStyleModel",
      "state": {
       "description_width": ""
      }
     },
     "15963ae7d1bb4263b2cd227fb13c5b6f": {
      "model_module": "@jupyter-widgets/controls",
      "model_module_version": "1.2.0",
      "model_name": "IntSliderModel",
      "state": {
       "description": "y2",
       "layout": "IPY_MODEL_0a148db4d2e4442ea36224245b543ab6",
       "min": 10,
       "style": "IPY_MODEL_088ef9cfdbb54298ae1cefa21722b0af",
       "value": 55
      }
     },
     "182c6df90b9e48c2bdf4fec973547a94": {
      "model_module": "@jupyter-widgets/controls",
      "model_module_version": "1.2.0",
      "model_name": "FloatSliderModel",
      "state": {
       "description": "p1",
       "layout": "IPY_MODEL_d0076ba727e24dfea89b50edc1cd5858",
       "max": 4,
       "min": 1,
       "step": 0.1,
       "style": "IPY_MODEL_ad45ed5223a5454489244d222bd416b7",
       "value": 1
      }
     },
     "18331477753446d78b0ae18bbd9e0c83": {
      "model_module": "@jupyter-widgets/base",
      "model_module_version": "1.0.0",
      "model_name": "LayoutModel",
      "state": {}
     },
     "1ae1ca0b02a0416d9a427328cd78fb41": {
      "model_module": "@jupyter-widgets/controls",
      "model_module_version": "1.2.0",
      "model_name": "SliderStyleModel",
      "state": {
       "description_width": ""
      }
     },
     "1ebba10541ff47b383eb2dd8fafe3750": {
      "model_module": "@jupyter-widgets/base",
      "model_module_version": "1.0.0",
      "model_name": "LayoutModel",
      "state": {}
     },
     "29a7c34a5e604b9daae894fe29892d34": {
      "model_module": "@jupyter-widgets/controls",
      "model_module_version": "1.2.0",
      "model_name": "VBoxModel",
      "state": {
       "_dom_classes": [
        "widget-interact"
       ],
       "children": [
        "IPY_MODEL_f3b5f873d591493aa3ae7dc7322845fa",
        "IPY_MODEL_cd1a405baf4e4294a44279c87d41118e",
        "IPY_MODEL_d0fe912ec558438690f3ce6c0890160d",
        "IPY_MODEL_0988ac514cae46f6b31d4892e32740a6",
        "IPY_MODEL_8744b0ed79624488a6a53f58af024a0f"
       ],
       "layout": "IPY_MODEL_47feb6aae83a401fbfb31fa796acf759"
      }
     },
     "363105970a7a41428f31dbb06d0083a8": {
      "model_module": "@jupyter-widgets/controls",
      "model_module_version": "1.2.0",
      "model_name": "SliderStyleModel",
      "state": {
       "description_width": ""
      }
     },
     "382fb8e085f1435ea895574e15eda5c8": {
      "model_module": "@jupyter-widgets/base",
      "model_module_version": "1.0.0",
      "model_name": "LayoutModel",
      "state": {}
     },
     "3bbe8480dd8c491194b318265f8b7887": {
      "model_module": "@jupyter-widgets/controls",
      "model_module_version": "1.2.0",
      "model_name": "FloatSliderModel",
      "state": {
       "description": "alpha",
       "layout": "IPY_MODEL_81d3418dfda14821a5452b9c78c10de1",
       "max": 0.95,
       "min": 0.05,
       "step": 0.05,
       "style": "IPY_MODEL_dafc97084980487eaa0addfd389b6c70",
       "value": 0.5
      }
     },
     "4032db874df34bda8b0d30be9388a02f": {
      "model_module": "@jupyter-widgets/base",
      "model_module_version": "1.0.0",
      "model_name": "LayoutModel",
      "state": {}
     },
     "40b95bdb7a1847cab3fdf3021eac25e2": {
      "model_module": "@jupyter-widgets/output",
      "model_module_version": "1.0.0",
      "model_name": "OutputModel",
      "state": {
       "layout": "IPY_MODEL_382fb8e085f1435ea895574e15eda5c8",
       "outputs": [
        {
         "data": {
          "image/png": "iVBORw0KGgoAAAANSUhEUgAAAf0AAAHpCAYAAACIi+UFAAAABHNCSVQICAgIfAhkiAAAAAlwSFlz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\ngg==\n",
          "text/plain": "<matplotlib.figure.Figure at 0x90fd4a8>"
         },
         "metadata": {},
         "output_type": "display_data"
        }
       ]
      }
     },
     "44e9378b3e2a4f01b39f4250512428e0": {
      "model_module": "@jupyter-widgets/base",
      "model_module_version": "1.0.0",
      "model_name": "LayoutModel",
      "state": {}
     },
     "47feb6aae83a401fbfb31fa796acf759": {
      "model_module": "@jupyter-widgets/base",
      "model_module_version": "1.0.0",
      "model_name": "LayoutModel",
      "state": {}
     },
     "487a263f9239495e922f6ba9fe41fabd": {
      "model_module": "@jupyter-widgets/controls",
      "model_module_version": "1.2.0",
      "model_name": "IntSliderModel",
      "state": {
       "description": "I",
       "layout": "IPY_MODEL_915aee349eb34b45884baa050e83087d",
       "max": 200,
       "min": 10,
       "step": 10,
       "style": "IPY_MODEL_8b1e955173564c50aaaf96cfc07eaaa3",
       "value": 100
      }
     },
     "48b5814a91a74b68822ab453d22c1166": {
      "model_module": "@jupyter-widgets/controls",
      "model_module_version": "1.2.0",
      "model_name": "IntSliderModel",
      "state": {
       "description": "y1",
       "layout": "IPY_MODEL_5c93d6439155482caf260c929d204835",
       "min": 10,
       "style": "IPY_MODEL_0de68081b67944e99d54cf7f699e7e9a",
       "value": 55
      }
     },
     "4dedc0fc112d4ae9a532cec110786e03": {
      "model_module": "@jupyter-widgets/controls",
      "model_module_version": "1.2.0",
      "model_name": "IntSliderModel",
      "state": {
       "description": "y2",
       "layout": "IPY_MODEL_44e9378b3e2a4f01b39f4250512428e0",
       "min": 10,
       "style": "IPY_MODEL_c07533812bc04a10ba328b7a13393332",
       "value": 55
      }
     },
     "4e681dfc590344c3adfccd61e903ad82": {
      "model_module": "@jupyter-widgets/controls",
      "model_module_version": "1.2.0",
      "model_name": "VBoxModel",
      "state": {
       "_dom_classes": [
        "widget-interact"
       ],
       "children": [
        "IPY_MODEL_91dd380ef386420f8a4e7083eb61ab6f",
        "IPY_MODEL_9842477993a347058abaf0f5f3dfb6c7",
        "IPY_MODEL_48b5814a91a74b68822ab453d22c1166",
        "IPY_MODEL_15963ae7d1bb4263b2cd227fb13c5b6f",
        "IPY_MODEL_eb10363fbddd49319d8001e3945a96f2"
       ],
       "layout": "IPY_MODEL_655274765c884d8b9d197676cb820379"
      }
     },
     "505ee9c222854cacae5953faccd9ca8f": {
      "model_module": "@jupyter-widgets/base",
      "model_module_version": "1.0.0",
      "model_name": "LayoutModel",
      "state": {}
     },
     "516d136d5a32461592c90ccd89be4ddc": {
      "model_module": "@jupyter-widgets/base",
      "model_module_version": "1.0.0",
      "model_name": "LayoutModel",
      "state": {}
     },
     "5c93d6439155482caf260c929d204835": {
      "model_module": "@jupyter-widgets/base",
      "model_module_version": "1.0.0",
      "model_name": "LayoutModel",
      "state": {}
     },
     "5d94b195f17c4961b6e41e61317c39f7": {
      "model_module": "@jupyter-widgets/base",
      "model_module_version": "1.0.0",
      "model_name": "LayoutModel",
      "state": {}
     },
     "64d89e7b6f2e4bc6871244846eb36052": {
      "model_module": "@jupyter-widgets/controls",
      "model_module_version": "1.2.0",
      "model_name": "FloatSliderModel",
      "state": {
       "description": "delta",
       "layout": "IPY_MODEL_9929110a29644645b2e635af638f0144",
       "max": 1,
       "min": 0.5,
       "step": 0.1,
       "style": "IPY_MODEL_ef5a46ac4357487fa490358c51b0022b",
       "value": 0.7
      }
     },
     "655274765c884d8b9d197676cb820379": {
      "model_module": "@jupyter-widgets/base",
      "model_module_version": "1.0.0",
      "model_name": "LayoutModel",
      "state": {}
     },
     "7630c6f350884b88ac7f921a90af630c": {
      "model_module": "@jupyter-widgets/output",
      "model_module_version": "1.0.0",
      "model_name": "OutputModel",
      "state": {
       "layout": "IPY_MODEL_4032db874df34bda8b0d30be9388a02f"
      }
     },
     "7884ba33288f462d83dcdaa63f38e85c": {
      "model_module": "@jupyter-widgets/base",
      "model_module_version": "1.0.0",
      "model_name": "LayoutModel",
      "state": {}
     },
     "7a47abf466964b679f5a3d7455620cc0": {
      "model_module": "@jupyter-widgets/controls",
      "model_module_version": "1.2.0",
      "model_name": "SliderStyleModel",
      "state": {
       "description_width": ""
      }
     },
     "81d3418dfda14821a5452b9c78c10de1": {
      "model_module": "@jupyter-widgets/base",
      "model_module_version": "1.0.0",
      "model_name": "LayoutModel",
      "state": {}
     },
     "8744b0ed79624488a6a53f58af024a0f": {
      "model_module": "@jupyter-widgets/output",
      "model_module_version": "1.0.0",
      "model_name": "OutputModel",
      "state": {
       "layout": "IPY_MODEL_9ad54fa711ba43579daade9e25d5c870"
      }
     },
     "87e9bbeabe69431e8eea1c2c722cabb9": {
      "model_module": "@jupyter-widgets/base",
      "model_module_version": "1.0.0",
      "model_name": "LayoutModel",
      "state": {}
     },
     "8b1e955173564c50aaaf96cfc07eaaa3": {
      "model_module": "@jupyter-widgets/controls",
      "model_module_version": "1.2.0",
      "model_name": "SliderStyleModel",
      "state": {
       "description_width": ""
      }
     },
     "8b6236a3b5e14f73bf4cd8d729e24644": {
      "model_module": "@jupyter-widgets/controls",
      "model_module_version": "1.2.0",
      "model_name": "FloatSliderModel",
      "state": {
       "description": "p2",
       "layout": "IPY_MODEL_8be71f83f9ca43dea0c64b4a4a6e71c4",
       "max": 4,
       "min": 1,
       "step": 0.1,
       "style": "IPY_MODEL_a6644c964fcb4226acba3e956961f100",
       "value": 1
      }
     },
     "8be71f83f9ca43dea0c64b4a4a6e71c4": {
      "model_module": "@jupyter-widgets/base",
      "model_module_version": "1.0.0",
      "model_name": "LayoutModel",
      "state": {}
     },
     "90c9f502b37f4d76914a373b57ec1813": {
      "model_module": "@jupyter-widgets/controls",
      "model_module_version": "1.2.0",
      "model_name": "IntSliderModel",
      "state": {
       "description": "y1",
       "layout": "IPY_MODEL_505ee9c222854cacae5953faccd9ca8f",
       "min": 10,
       "style": "IPY_MODEL_081771854fe3476db29ca9cf2fbb7d0c",
       "value": 55
      }
     },
     "915aee349eb34b45884baa050e83087d": {
      "model_module": "@jupyter-widgets/base",
      "model_module_version": "1.0.0",
      "model_name": "LayoutModel",
      "state": {}
     },
     "91dd380ef386420f8a4e7083eb61ab6f": {
      "model_module": "@jupyter-widgets/controls",
      "model_module_version": "1.2.0",
      "model_name": "FloatSliderModel",
      "state": {
       "description": "r",
       "layout": "IPY_MODEL_bdb9fbcacf0e46ddb51dbdfc3f6b2c5f",
       "max": 1,
       "step": 0.1,
       "style": "IPY_MODEL_7a47abf466964b679f5a3d7455620cc0"
      }
     },
     "9210cafe8435466ba6eefc7a66581217": {
      "model_module": "@jupyter-widgets/controls",
      "model_module_version": "1.2.0",
      "model_name": "SliderStyleModel",
      "state": {
       "description_width": ""
      }
     },
     "95b5ed03feb848f0be2fdf352e466903": {
      "model_module": "@jupyter-widgets/base",
      "model_module_version": "1.0.0",
      "model_name": "LayoutModel",
      "state": {}
     },
     "980434fe41d647589cb5f16d76f65eab": {
      "model_module": "@jupyter-widgets/controls",
      "model_module_version": "1.2.0",
      "model_name": "VBoxModel",
      "state": {
       "_dom_classes": [
        "widget-interact"
       ],
       "children": [
        "IPY_MODEL_182c6df90b9e48c2bdf4fec973547a94",
        "IPY_MODEL_8b6236a3b5e14f73bf4cd8d729e24644",
        "IPY_MODEL_487a263f9239495e922f6ba9fe41fabd",
        "IPY_MODEL_3bbe8480dd8c491194b318265f8b7887",
        "IPY_MODEL_7630c6f350884b88ac7f921a90af630c"
       ],
       "layout": "IPY_MODEL_adab683e4ab749458e574bf7ffcd42b2"
      }
     },
     "9842477993a347058abaf0f5f3dfb6c7": {
      "model_module": "@jupyter-widgets/controls",
      "model_module_version": "1.2.0",
      "model_name": "FloatSliderModel",
      "state": {
       "description": "delta",
       "layout": "IPY_MODEL_7884ba33288f462d83dcdaa63f38e85c",
       "max": 1,
       "min": 0.5,
       "step": 0.1,
       "style": "IPY_MODEL_1542419e083b4b3b83a455d6a3a1dc51",
       "value": 0.7
      }
     },
     "9929110a29644645b2e635af638f0144": {
      "model_module": "@jupyter-widgets/base",
      "model_module_version": "1.0.0",
      "model_name": "LayoutModel",
      "state": {}
     },
     "9ad54fa711ba43579daade9e25d5c870": {
      "model_module": "@jupyter-widgets/base",
      "model_module_version": "1.0.0",
      "model_name": "LayoutModel",
      "state": {}
     },
     "9cd40da5dbc24f859934dccc86bd3e1b": {
      "model_module": "@jupyter-widgets/base",
      "model_module_version": "1.0.0",
      "model_name": "LayoutModel",
      "state": {}
     },
     "a6644c964fcb4226acba3e956961f100": {
      "model_module": "@jupyter-widgets/controls",
      "model_module_version": "1.2.0",
      "model_name": "SliderStyleModel",
      "state": {
       "description_width": ""
      }
     },
     "ad45ed5223a5454489244d222bd416b7": {
      "model_module": "@jupyter-widgets/controls",
      "model_module_version": "1.2.0",
      "model_name": "SliderStyleModel",
      "state": {
       "description_width": ""
      }
     },
     "adab683e4ab749458e574bf7ffcd42b2": {
      "model_module": "@jupyter-widgets/base",
      "model_module_version": "1.0.0",
      "model_name": "LayoutModel",
      "state": {}
     },
     "b20450e3a00e432d8e6a92cf34b63008": {
      "model_module": "@jupyter-widgets/controls",
      "model_module_version": "1.2.0",
      "model_name": "SliderStyleModel",
      "state": {
       "description_width": ""
      }
     },
     "b662bed1597b4e478598c9f5e8cdf427": {
      "model_module": "@jupyter-widgets/controls",
      "model_module_version": "1.2.0",
      "model_name": "FloatSliderModel",
      "state": {
       "description": "alpha",
       "layout": "IPY_MODEL_1ebba10541ff47b383eb2dd8fafe3750",
       "max": 0.95,
       "min": 0.05,
       "step": 0.05,
       "style": "IPY_MODEL_d75fdf92f81d48b1ab2240dd5ead957d",
       "value": 0.5
      }
     },
     "bbea085ab0c94fa7891f7a0fe8b3c3f1": {
      "model_module": "@jupyter-widgets/output",
      "model_module_version": "1.0.0",
      "model_name": "OutputModel",
      "state": {
       "layout": "IPY_MODEL_87e9bbeabe69431e8eea1c2c722cabb9"
      }
     },
     "bd561cc495da40e0ba5fa017f006b4a4": {
      "model_module": "@jupyter-widgets/controls",
      "model_module_version": "1.2.0",
      "model_name": "SliderStyleModel",
      "state": {
       "description_width": ""
      }
     },
     "bdb9fbcacf0e46ddb51dbdfc3f6b2c5f": {
      "model_module": "@jupyter-widgets/base",
      "model_module_version": "1.0.0",
      "model_name": "LayoutModel",
      "state": {}
     },
     "bdee8b6dec4e401da627e4a1c13b8bd8": {
      "model_module": "@jupyter-widgets/controls",
      "model_module_version": "1.2.0",
      "model_name": "FloatSliderModel",
      "state": {
       "description": "p1",
       "layout": "IPY_MODEL_5d94b195f17c4961b6e41e61317c39f7",
       "max": 4,
       "min": 1,
       "step": 0.1,
       "style": "IPY_MODEL_03c1f223312e46aeb5e38cd5d2549f20",
       "value": 1
      }
     },
     "c07533812bc04a10ba328b7a13393332": {
      "model_module": "@jupyter-widgets/controls",
      "model_module_version": "1.2.0",
      "model_name": "SliderStyleModel",
      "state": {
       "description_width": ""
      }
     },
     "c4cf0000ce60449db0084c9765d5df2b": {
      "model_module": "@jupyter-widgets/controls",
      "model_module_version": "1.2.0",
      "model_name": "VBoxModel",
      "state": {
       "_dom_classes": [
        "widget-interact"
       ],
       "children": [
        "IPY_MODEL_e8880a341cbc43068af1baf619f51ff4",
        "IPY_MODEL_64d89e7b6f2e4bc6871244846eb36052",
        "IPY_MODEL_90c9f502b37f4d76914a373b57ec1813",
        "IPY_MODEL_4dedc0fc112d4ae9a532cec110786e03",
        "IPY_MODEL_bbea085ab0c94fa7891f7a0fe8b3c3f1"
       ],
       "layout": "IPY_MODEL_18331477753446d78b0ae18bbd9e0c83"
      }
     },
     "caec54b922a44f2b82bd1a9c6f5547a2": {
      "model_module": "@jupyter-widgets/controls",
      "model_module_version": "1.2.0",
      "model_name": "IntSliderModel",
      "state": {
       "description": "I",
       "layout": "IPY_MODEL_e8008788cc934e7f8502c85e2c12e45e",
       "max": 200,
       "min": 10,
       "step": 10,
       "style": "IPY_MODEL_efad10dee9054f989d42ef298bf458f2",
       "value": 100
      }
     },
     "cd1a405baf4e4294a44279c87d41118e": {
      "model_module": "@jupyter-widgets/controls",
      "model_module_version": "1.2.0",
      "model_name": "FloatSliderModel",
      "state": {
       "description": "delta",
       "layout": "IPY_MODEL_95b5ed03feb848f0be2fdf352e466903",
       "max": 1,
       "min": 0.5,
       "step": 0.1,
       "style": "IPY_MODEL_1ae1ca0b02a0416d9a427328cd78fb41",
       "value": 0.7
      }
     },
     "d0076ba727e24dfea89b50edc1cd5858": {
      "model_module": "@jupyter-widgets/base",
      "model_module_version": "1.0.0",
      "model_name": "LayoutModel",
      "state": {}
     },
     "d0fe912ec558438690f3ce6c0890160d": {
      "model_module": "@jupyter-widgets/controls",
      "model_module_version": "1.2.0",
      "model_name": "IntSliderModel",
      "state": {
       "description": "y1",
       "layout": "IPY_MODEL_f3b2cf3a07204f48b422107bb2ca3a1c",
       "min": 10,
       "style": "IPY_MODEL_363105970a7a41428f31dbb06d0083a8",
       "value": 55
      }
     },
     "d160a581cf034168b50fc391777fa71f": {
      "model_module": "@jupyter-widgets/base",
      "model_module_version": "1.0.0",
      "model_name": "LayoutModel",
      "state": {}
     },
     "d75fdf92f81d48b1ab2240dd5ead957d": {
      "model_module": "@jupyter-widgets/controls",
      "model_module_version": "1.2.0",
      "model_name": "SliderStyleModel",
      "state": {
       "description_width": ""
      }
     },
     "dafc97084980487eaa0addfd389b6c70": {
      "model_module": "@jupyter-widgets/controls",
      "model_module_version": "1.2.0",
      "model_name": "SliderStyleModel",
      "state": {
       "description_width": ""
      }
     },
     "dc7e73debe5b4b299e5035355d64895a": {
      "model_module": "@jupyter-widgets/base",
      "model_module_version": "1.0.0",
      "model_name": "LayoutModel",
      "state": {}
     },
     "de701884dcf740d2bfeba29e4db33bf9": {
      "model_module": "@jupyter-widgets/controls",
      "model_module_version": "1.2.0",
      "model_name": "VBoxModel",
      "state": {
       "_dom_classes": [
        "widget-interact"
       ],
       "children": [
        "IPY_MODEL_bdee8b6dec4e401da627e4a1c13b8bd8",
        "IPY_MODEL_05e43573d2894358be2f63e28c1ece57",
        "IPY_MODEL_caec54b922a44f2b82bd1a9c6f5547a2",
        "IPY_MODEL_b662bed1597b4e478598c9f5e8cdf427",
        "IPY_MODEL_40b95bdb7a1847cab3fdf3021eac25e2"
       ],
       "layout": "IPY_MODEL_9cd40da5dbc24f859934dccc86bd3e1b"
      }
     },
     "e8008788cc934e7f8502c85e2c12e45e": {
      "model_module": "@jupyter-widgets/base",
      "model_module_version": "1.0.0",
      "model_name": "LayoutModel",
      "state": {}
     },
     "e8880a341cbc43068af1baf619f51ff4": {
      "model_module": "@jupyter-widgets/controls",
      "model_module_version": "1.2.0",
      "model_name": "FloatSliderModel",
      "state": {
       "description": "r",
       "layout": "IPY_MODEL_0cfef710301f4f8da00e53f9ffe7cb8b",
       "max": 1,
       "step": 0.1,
       "style": "IPY_MODEL_b20450e3a00e432d8e6a92cf34b63008"
      }
     },
     "eb10363fbddd49319d8001e3945a96f2": {
      "model_module": "@jupyter-widgets/output",
      "model_module_version": "1.0.0",
      "model_name": "OutputModel",
      "state": {
       "layout": "IPY_MODEL_d160a581cf034168b50fc391777fa71f",
       "outputs": [
        {
         "data": {
          "image/png": "iVBORw0KGgoAAAANSUhEUgAAAf0AAAHpCAYAAACIi+UFAAAABHNCSVQICAgIfAhkiAAAAAlwSFlz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\niNCir5RSSoWI/wexCLPY+sSznQAAAABJRU5ErkJggg==\n",
          "text/plain": "<matplotlib.figure.Figure at 0xa4f5710>"
         },
         "metadata": {},
         "output_type": "display_data"
        }
       ]
      }
     },
     "ef5a46ac4357487fa490358c51b0022b": {
      "model_module": "@jupyter-widgets/controls",
      "model_module_version": "1.2.0",
      "model_name": "SliderStyleModel",
      "state": {
       "description_width": ""
      }
     },
     "efad10dee9054f989d42ef298bf458f2": {
      "model_module": "@jupyter-widgets/controls",
      "model_module_version": "1.2.0",
      "model_name": "SliderStyleModel",
      "state": {
       "description_width": ""
      }
     },
     "f3b2cf3a07204f48b422107bb2ca3a1c": {
      "model_module": "@jupyter-widgets/base",
      "model_module_version": "1.0.0",
      "model_name": "LayoutModel",
      "state": {}
     },
     "f3b5f873d591493aa3ae7dc7322845fa": {
      "model_module": "@jupyter-widgets/controls",
      "model_module_version": "1.2.0",
      "model_name": "FloatSliderModel",
      "state": {
       "description": "r",
       "layout": "IPY_MODEL_516d136d5a32461592c90ccd89be4ddc",
       "max": 1,
       "step": 0.1,
       "style": "IPY_MODEL_9210cafe8435466ba6eefc7a66581217"
      }
     }
    },
    "version_major": 2,
    "version_minor": 0
   }
  }
 },
 "nbformat": 4,
 "nbformat_minor": 2
}
