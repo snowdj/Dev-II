{
 "cells": [
  {
   "cell_type": "markdown",
   "metadata": {
    "slideshow": {
     "slide_type": "slide"
    }
   },
   "source": [
    "# Lucas (1990) \"Why Doesn't Capital Flow from Rich to Poor Countries?\""
   ]
  },
  {
   "cell_type": "markdown",
   "metadata": {},
   "source": [
    "Summary and analytical notes on the paper:\n",
    "\n",
    "Lucas, Robert E. (1990) \"Why Doesn't Capital Flow from Rich to Poor Countries?\" *American Economic Review*: 92-96."
   ]
  },
  {
   "cell_type": "markdown",
   "metadata": {},
   "source": [
    "Note: To change or interact with the code and figures in this notebook first run the [code section](#codesection) below the 'Code Section' below. Then run any code cells above."
   ]
  },
  {
   "cell_type": "markdown",
   "metadata": {
    "slideshow": {
     "slide_type": "subslide"
    }
   },
   "source": [
    "## Neoclassical trade, migration and growth model predictions:\n",
    " - the convergence of factor prices and incomes per-capita over time (Factor Price Equalization Theorem)\n",
    " - via substitute mechanisms: factor movement, trade in products, and/or capital accumulation (e.g. Solow). \n",
    " - rests on assumptions about technology and market competition\n",
    "      - in particular: diminishing returns to the accumulated factor capital (i.e. $F_{KK} < 0$ )."
   ]
  },
  {
   "cell_type": "markdown",
   "metadata": {
    "slideshow": {
     "slide_type": "subslide"
    }
   },
   "source": [
    "### Simplest model\n",
    "Assume two countries with same aggregate production function, where $X$ is capital stock and $L$ is labor force:\n",
    "\n",
    "$$Y = A X^\\beta L^{1-\\beta}$$"
   ]
  },
  {
   "cell_type": "markdown",
   "metadata": {
    "slideshow": {
     "slide_type": "fragment"
    }
   },
   "source": [
    "**in intensive or per-capita form**:\n",
    "$$y = A x^\\beta$$\n",
    "\n",
    "where \n",
    "$$y = \\frac{Y}{L} \\text{    and    } x = \\frac{X}{L}$$"
   ]
  },
  {
   "cell_type": "markdown",
   "metadata": {
    "slideshow": {
     "slide_type": "fragment"
    }
   },
   "source": [
    "**Marginal Product of Capital is:**\n",
    "\n",
    "$$r = A \\beta x^{\\beta -1}$$\n"
   ]
  },
  {
   "cell_type": "markdown",
   "metadata": {
    "collapsed": true,
    "slideshow": {
     "slide_type": "subslide"
    }
   },
   "source": [
    "**Marginal Product of Capital (MPK) as a function of income per capita:**\n",
    "\n",
    "    \n",
    "$$r = \\beta A^\\frac{1}{\\beta} y^\\frac{\\beta -1}{\\beta}$$   \n",
    "\n",
    "or \n",
    "\n",
    "$$r = A \\beta \\left ( {\\frac{y}{A}} \\right ) ^\\frac{\\beta - 1}{\\beta}$$\n",
    "    "
   ]
  },
  {
   "cell_type": "markdown",
   "metadata": {
    "slideshow": {
     "slide_type": "fragment"
    }
   },
   "source": [
    "\n",
    "Steps:\n",
    "\n",
    "$$y = A x^\\beta  $$\n",
    "so \n",
    "$$x = \\left ({\\frac{y}{A}}  \\right)^\\frac{1}{\\beta}   $$\n",
    "\n",
    "substitute this into $r = A \\beta x^{\\beta -1}$"
   ]
  },
  {
   "cell_type": "markdown",
   "metadata": {
    "collapsed": true,
    "slideshow": {
     "slide_type": "slide"
    }
   },
   "source": [
    "### The puzzle\n",
    " - Let capital share $\\beta =0.4$ (average of USA and India)\n",
    " - Assume first that $A$ is the *same* in both countries"
   ]
  },
  {
   "cell_type": "markdown",
   "metadata": {
    "slideshow": {
     "slide_type": "fragment"
    }
   },
   "source": [
    " - In 1988 income per capita in USA was 15 times higher than USA:\n",
    " \n",
    "$$\\frac{y_{US}}{y_{IN}} = 15$$\n"
   ]
  },
  {
   "cell_type": "markdown",
   "metadata": {
    "slideshow": {
     "slide_type": "fragment"
    }
   },
   "source": [
    " - this implies MPK in India would have to be:\n",
    " \n",
    " $$\\frac{r_{IN}}{r_{US}} = \\left [ { \\frac{y_{US}}{y_{IN}} } \\right] ^ \\frac{1-\\beta}{\\beta} = 58.1$$\n",
    " \n",
    " times higher in India!  Implausibly large."
   ]
  },
  {
   "cell_type": "markdown",
   "metadata": {
    "slideshow": {
     "slide_type": "subslide"
    }
   },
   "source": [
    "What differences in capital per worker account for this large a gap?\n",
    "\n",
    "As $x = \\left ({\\frac{y}{A}}  \\right)^\\frac{1}{\\beta} $ and  $\\frac{y_{US}}{y_{IN}} = 15$, US workers would have to have this \n",
    " \n",
    " $$\\frac{x_{US}}{x_{IN}} = \\left ( {\\frac{y_{US}}{y_{IN}}}  \\right)^\\frac{1}{\\beta} = 871.4$$\n",
    " \n",
    "multiple of the amount of capital per worker compared to India:\n",
    " \n",
    " So if in India the capital-labor ratio is 1 in the USA it must be 871.4 !  "
   ]
  },
  {
   "cell_type": "markdown",
   "metadata": {
    "slideshow": {
     "slide_type": "fragment"
    }
   },
   "source": [
    " - With such huge differences in returns, capital would surely RUSH from USA to India quickly lower the gap in returns and incomes.  "
   ]
  },
  {
   "cell_type": "markdown",
   "metadata": {
    "slideshow": {
     "slide_type": "fragment"
    }
   },
   "source": [
    " -  Evidently it does not.  So what's wrong with the model?  Lucas walks through 4 alternate hyptotheses."
   ]
  },
  {
   "cell_type": "markdown",
   "metadata": {
    "slideshow": {
     "slide_type": "slide"
    }
   },
   "source": [
    "### Some plots"
   ]
  },
  {
   "cell_type": "code",
   "execution_count": 9,
   "metadata": {},
   "outputs": [
    {
     "name": "stdout",
     "output_type": "stream",
     "text": [
      "Return to capital in India relative to USA :  58.1\n"
     ]
    }
   ],
   "source": [
    "print('Return to capital in India relative to USA : {:5.1f}'.format(r(y_IN, A)/r(y_US, A)))"
   ]
  },
  {
   "cell_type": "markdown",
   "metadata": {},
   "source": [
    "The ratio of capital stock per worker in the USA compared to India that is implied by this difference in incomes per capita is even more unbelievable:"
   ]
  },
  {
   "cell_type": "code",
   "execution_count": 10,
   "metadata": {},
   "outputs": [
    {
     "name": "stdout",
     "output_type": "stream",
     "text": [
      "Capital per worker in USA relative to India : 871.4\n"
     ]
    }
   ],
   "source": [
    "print('Capital per worker in USA relative to India : {:5.1f}'.format(kap(y_US, A)/kap(y_IN, A)))"
   ]
  },
  {
   "cell_type": "code",
   "execution_count": 11,
   "metadata": {},
   "outputs": [
    {
     "data": {
      "image/png": "[encoded data removed]",
      "text/plain": [
       "<matplotlib.figure.Figure at 0x1b811a62f60>"
      ]
     },
     "metadata": {},
     "output_type": "display_data"
    }
   ],
   "source": [
    "lucasplot()"
   ]
  },
  {
   "cell_type": "markdown",
   "metadata": {
    "slideshow": {
     "slide_type": "subslide"
    }
   },
   "source": [
    "## The four hypotheses:"
   ]
  },
  {
   "cell_type": "markdown",
   "metadata": {
    "slideshow": {
     "slide_type": "fragment"
    }
   },
   "source": [
    " 1.  Differences in Human Capital (effective labor) \n",
    " 2. External Benefits of Human Capital (increasing returns) \n",
    " 3. Capital Market Imperfections I (political risk) \n",
    " 4.  Capital Market Imperfections II (monopoly distortions) "
   ]
  },
  {
   "cell_type": "markdown",
   "metadata": {
    "collapsed": true
   },
   "source": [
    "### Hypothesis 1: Differences in Human Capital (or effective labor) \n",
    "\n",
    "Human capital per worker differs substantially between USA and India. Let's adapt the framework to take this into account.\n",
    "\n",
    "Redefine $y$ and $x$ to be output and capital per *effective* worker. \n",
    "\n",
    "$$y = \\frac{AX^\\beta (E \\cdot L)^{(1-\\beta)}}{E \\cdot L}$$\n",
    "or\n",
    "$$y=Ax^\\beta \\cdot E ^{-\\beta}$$"
   ]
  },
  {
   "cell_type": "markdown",
   "metadata": {},
   "source": [
    "Lucas' cites evidence from Anne Krueger that leads him to suggest a value of $E =5$, which is to say that for the same technology and capital a US worker produces five times as much as his/her Indian counterpart. \n",
    "\n",
    "To see this first note that if we take the ratio of US to Indian income per effective worker we get:\n",
    "\n",
    "$$\\frac{y_{US}}{y_{IN}} = \\frac{Y_{US}}{E \\cdot L_{US}} \\cdot \\frac{L_{IN}}{Y_{IN}}=\\frac{15}{5} = 3$$"
   ]
  },
  {
   "cell_type": "markdown",
   "metadata": {},
   "source": [
    "With this we can easily calculate the implied difference in marginal products of capital:\n",
    "\n",
    "$$\\frac{r(y_{IN})}{r(y_{US})}= \\left ( \\frac{y_{US}}{y_{IN}} \\right )^\\frac{1-\\beta}{\\beta}$$\n",
    "\n",
    "$$=3^{1.5} = 5.2$$"
   ]
  },
  {
   "cell_type": "markdown",
   "metadata": {},
   "source": [
    "So this lowers the factor of proportionality from 58 to 5. As Lucas puts it: \"This is a substantial revision but it leaves the original paradox very much alive: a factor of five differnce in rates of return is tstill large enough to lead one to expect capital flows much larger than anything we observe (p. 93).\"  "
   ]
  },
  {
   "cell_type": "markdown",
   "metadata": {},
   "source": [
    "### Hypothesis 2: External Benefits to Human Capital"
   ]
  },
  {
   "cell_type": "markdown",
   "metadata": {},
   "source": [
    "We've assumed thus far that the total factor productivity parameter $A$ is the same across countries.  This is unlikely.  An easy way to resolve the paradox is to simply solve for the level of A_{US}/A_{IN} that makes he gap dissappear. \n",
    "\n",
    "In this section Luca isn't quite doing that but he is in effect letting the values of A differ between the two countries.  He motivates this with a stripped down version of his own Lucas (1988) paper on external economies, a model where human capital plays a role and where there is a positive external effect in human-capital accumulation in that he assumes that the marginal product of one's human capital is augmented by the average level of human capital in the economy.  In this paper he doesn't work out this model in full but uses the story to rewrite the production function as:\n",
    "\n",
    "$$y=A h^\\gamma x^\\beta $$\n",
    "\n",
    "and he then gives us some 'guestimates' as to the differences in human capital per worker in each country.  As it turns out this is in effect equivalent to sticking to the original model and just assuming that \n",
    "$$\\frac{A_{US}}{A_{IN}} = 5$$\n",
    "\n",
    "A country with a higher level of $A$ will have everywhere higher return on capital. After a little math the adjusted ratio now becomes\n",
    "\n",
    "$$\\frac{r(y_{IN})}{r(y_{US})}= \\left ( \\frac{y_{US}}{y_{IN}} \\right )^\\frac{1-\\beta}{\\beta}$$\n",
    "\n",
    "$$=\\frac{3^{1.5}}{5} = 1.04$$"
   ]
  },
  {
   "cell_type": "markdown",
   "metadata": {},
   "source": [
    "This would seem to almost resolve the paradox but Lucas in fact dismisses it as not entirely realistic.  It assumes for example that knowledge spillovers across borders are zero.\n"
   ]
  },
  {
   "cell_type": "markdown",
   "metadata": {},
   "source": [
    " ### Hypothesis 3: Capital Market Imperfections I (political risk)\n",
    " \n",
    " I haven't written this up yet..."
   ]
  },
  {
   "cell_type": "markdown",
   "metadata": {
    "slideshow": {
     "slide_type": "slide"
    }
   },
   "source": [
    " ### Hypothesis 4: monopoly power distortions to capital market "
   ]
  },
  {
   "cell_type": "markdown",
   "metadata": {
    "collapsed": true,
    "slideshow": {
     "slide_type": "fragment"
    }
   },
   "source": [
    "This is the least often mentioned but possibly the most interesting of Lucas' hypotheses.  The hypothesis is that local elites (or 'an imperial power') are able to collude to control the entry of capital into India to drive up captial rents and drive down real wages in such a way that increase firm profits.  Implictly the story is that local elites control the organization of production and hence firm profits.   \n",
    "\n",
    "While at first it might seem far-fetched to believe a story like this in modern times (less far-fetched in the time of the East India Company) there is plenty of evidence that capital inflows into India and other developing countries were historicallycontrolled in part to protect the rents of local elites.  Rajan and Zingales' (2013) book [Saving Capitalism from the Capitalists](http://press.princeton.edu/titles/7822.html) is full of examples of local elites lobbying government bureaucrats to establish market power."
   ]
  },
  {
   "cell_type": "markdown",
   "metadata": {
    "slideshow": {
     "slide_type": "fragment"
    }
   },
   "source": [
    "The elite is assumed to have access to international capital markets where they can borrow capital at the rate $\\rho $"
   ]
  },
  {
   "cell_type": "markdown",
   "metadata": {
    "slideshow": {
     "slide_type": "fragment"
    }
   },
   "source": [
    "If the elite ran the country as a monopoly they would choose the capital-labor ratio (by varying how much capital enters the country) to maximize profits per capita:\n",
    "\n",
    "$$f(x) - \\left [{f(x)-xf'(x)} \\right ] -rx$$"
   ]
  },
  {
   "cell_type": "markdown",
   "metadata": {
    "slideshow": {
     "slide_type": "fragment"
    }
   },
   "source": [
    "Here (by Euler's Theorem) $f(x)-xf'(x)$ is the wage."
   ]
  },
  {
   "cell_type": "markdown",
   "metadata": {},
   "source": [
    "Implicit in Lucas' formulation is the idea that there is a large monopolist and a 'fringe' of smaller competitive firms, all producing the common output.  The competitive fringe hires factors until the marginal value product equals the market factor price.  By restricting capital into the economy the monopolists drives up the domestic rental price of capital.  With less capital to work with the competitive fringe hires less labor and this drives down the mearket equilibrium real wage.  Monopolist profits rise due to this monopsony power effect."
   ]
  },
  {
   "cell_type": "markdown",
   "metadata": {},
   "source": [
    "$$f(x) - \\left [{f(x)-xf'(x)} \\right ] -rx$$"
   ]
  },
  {
   "cell_type": "code",
   "execution_count": 12,
   "metadata": {},
   "outputs": [
    {
     "data": {
      "image/png": "[encoded data removed]",
      "text/plain": [
       "<matplotlib.figure.Figure at 0x1b81196d470>"
      ]
     },
     "metadata": {},
     "output_type": "display_data"
    }
   ],
   "source": [
    "monopolyplot(rho=0.05)"
   ]
  },
  {
   "cell_type": "markdown",
   "metadata": {},
   "source": [
    "In an open competitive economy all firm profits would be zero and the capital-labor ratio $x$ would be simply set from \n",
    "\n",
    "$$f'(x) = \\rho$$\n",
    "\n",
    "where $\\rho$ is the world market price of capital.  This implies we can find the capital labor ratio as a function of $\\rho$:"
   ]
  },
  {
   "cell_type": "markdown",
   "metadata": {},
   "source": [
    "$$\\beta x^{\\beta -1}=ρ$$\n",
    "$$x = \\left ( \\frac{\\rho}{\\beta} \\right ) ^\\frac{1}{\\beta - 1}$$\n",
    "\n",
    "Suppose we normalize the world rate or return to capital to $\\rho=0.05$. Then equlibrium capital per worker in the competitive economy would be:"
   ]
  },
  {
   "cell_type": "code",
   "execution_count": 13,
   "metadata": {},
   "outputs": [
    {
     "name": "stdout",
     "output_type": "stream",
     "text": [
      "32.0\n"
     ]
    }
   ],
   "source": [
    "rho = 0.05\n",
    "beta = 0.4\n",
    "xC, _ = xoptimum(rho, beta)\n",
    "print('%.1f' % xC)"
   ]
  },
  {
   "cell_type": "markdown",
   "metadata": {},
   "source": [
    "The monopolist on the other hand sets x to:\n",
    "\n",
    "$$f'(x) = \\rho - xf''(x)$$"
   ]
  },
  {
   "cell_type": "markdown",
   "metadata": {},
   "source": [
    "Note that $f''(x)$ can be written:\n",
    "\n",
    "$$f''(x) =(\\beta -1) \\frac{f'(x)}{x}$$\n",
    "\n",
    "which allows us to simplify the monopoly FOC to:\n",
    "\n",
    "$$f'(x) = \\frac{\\rho}{\\beta}$$"
   ]
  },
  {
   "cell_type": "markdown",
   "metadata": {},
   "source": [
    "Given our assumed value of beta, this means a monopolist might maintain the rate of return on capital $1/ \\beta$ times higher than the international market rate $\\rho$, and resists capital inflows that might push this rate down. "
   ]
  },
  {
   "cell_type": "markdown",
   "metadata": {},
   "source": [
    "Solving for $x$ in this monopolized market gives:\n",
    "\n",
    "$$x = \\left ( \\frac{\\rho}{\\beta^2} \\right ) ^\\frac{1}{\\beta - 1}$$"
   ]
  },
  {
   "cell_type": "code",
   "execution_count": 14,
   "metadata": {},
   "outputs": [
    {
     "name": "stdout",
     "output_type": "stream",
     "text": [
      "Capital per worker in the market-power distorted equilibrium: 6.9\n",
      " 22% of the competitive level\n"
     ]
    }
   ],
   "source": [
    "_ , xM = xoptimum(rho, beta)\n",
    "print('Capital per worker in the market-power distorted equilibrium: {:2.1f}'.format(xM))\n",
    "print(' {:.0%} of the competitive level'.format(xM/xC))"
   ]
  },
  {
   "cell_type": "markdown",
   "metadata": {},
   "source": [
    "Indian income per capita will be only"
   ]
  },
  {
   "cell_type": "code",
   "execution_count": 15,
   "metadata": {},
   "outputs": [
    {
     "name": "stdout",
     "output_type": "stream",
     "text": [
      "   54 percent\n"
     ]
    }
   ],
   "source": [
    "print(\"{:5.0f} percent\".format(100*f(xM)/f(xC)))"
   ]
  },
  {
   "cell_type": "markdown",
   "metadata": {},
   "source": [
    "as high as in a competitive market without barriers to capital inflows."
   ]
  },
  {
   "cell_type": "markdown",
   "metadata": {},
   "source": [
    "This is an inefficient outcome but the elites who capture the profits/rents do pretty well. They earn "
   ]
  },
  {
   "cell_type": "code",
   "execution_count": 16,
   "metadata": {},
   "outputs": [
    {
     "name": "stdout",
     "output_type": "stream",
     "text": [
      "profits =  0.52 or 24% of total output\n"
     ]
    }
   ],
   "source": [
    "print('profits = {:5.2f} or {:.0%} of total output'.format(profit(xM, rho), profit(xM,rho)/f(xM)))"
   ]
  },
  {
   "cell_type": "markdown",
   "metadata": {},
   "source": [
    "## Extensions"
   ]
  },
  {
   "cell_type": "markdown",
   "metadata": {},
   "source": [
    "Lucas does not cite their work but models of this sort were explored by trade economists in the 1980s (e.g. Feenstra (1980). \n",
    "\n",
    "In a model described later, Conning (2006) explores similar factor market power distortions in a model with heterogenous agents to make predictions about the size distribution of firms within each sector."
   ]
  },
  {
   "cell_type": "markdown",
   "metadata": {},
   "source": [
    "### Solving for maxima and roots numerically\n",
    "This was an easy model to solve analytically, but let's solve it numerically to illustrate the use of the root solving (fsolve function from scipy optimize library) and minimization techniques (brentq from the same library). See the code section below first."
   ]
  },
  {
   "cell_type": "markdown",
   "metadata": {},
   "source": [
    "Let's setup first order condition functions to find the x that sets them to zero. \n",
    "\n",
    "For the competitive case: $f'(x) - \\rho $ \n",
    "For the monopoly case:  $f'(x) - \\rho -x f''(x)$"
   ]
  },
  {
   "cell_type": "code",
   "execution_count": 17,
   "metadata": {
    "collapsed": true
   },
   "outputs": [],
   "source": [
    "def cfoc(x):\n",
    "    return mpx(x) - rho\n",
    "\n",
    "def mfoc(x):\n",
    "    return mpx(x) - rho + (beta-1)*mpx(x)"
   ]
  },
  {
   "cell_type": "markdown",
   "metadata": {},
   "source": [
    "and solve for the root:"
   ]
  },
  {
   "cell_type": "code",
   "execution_count": 18,
   "metadata": {},
   "outputs": [
    {
     "data": {
      "text/plain": [
       "32.0"
      ]
     },
     "execution_count": 18,
     "metadata": {},
     "output_type": "execute_result"
    }
   ],
   "source": [
    "from scipy.optimize import fsolve, brentq, minimize\n",
    "xC = fsolve(cfoc, 20)[0]\n",
    "xC"
   ]
  },
  {
   "cell_type": "markdown",
   "metadata": {},
   "source": [
    "Same as the analytical solution of course. \n",
    "\n",
    "Now let's find the $x$ that maximizes monopoly profits (we need to provide a guess value):"
   ]
  },
  {
   "cell_type": "code",
   "execution_count": 19,
   "metadata": {},
   "outputs": [
    {
     "data": {
      "text/plain": [
       "6.9489090984826332"
      ]
     },
     "execution_count": 19,
     "metadata": {},
     "output_type": "execute_result"
    }
   ],
   "source": [
    "xM = fsolve(mfoc, 5)[0]\n",
    "xM"
   ]
  },
  {
   "cell_type": "markdown",
   "metadata": {},
   "source": [
    "We could have instead directly maximized profits (minimized negative profits) with an optimization routine:"
   ]
  },
  {
   "cell_type": "code",
   "execution_count": 20,
   "metadata": {},
   "outputs": [
    {
     "data": {
      "text/plain": [
       "6.94891357421875"
      ]
     },
     "execution_count": 20,
     "metadata": {},
     "output_type": "execute_result"
    }
   ],
   "source": [
    "def negprofit(x):\n",
    "    return - profit(x, rho)\n",
    "\n",
    "res = minimize(negprofit, 5, method='Nelder-Mead')\n",
    "res.x[0]"
   ]
  },
  {
   "cell_type": "markdown",
   "metadata": {},
   "source": [
    "<a id='codesection'></a>\n",
    "## Code Section\n",
    "\n",
    "To unclutter the notebook above much of the code has been moved to this section. To re-create or modify any content go to the 'Cell' menu above run all code cells below by choosing 'Run All Below'.  Then 'Run all Above' to recreate all output above (or go to the top and step through each code cell manually)."
   ]
  },
  {
   "cell_type": "code",
   "execution_count": 1,
   "metadata": {
    "collapsed": true,
    "slideshow": {
     "slide_type": "subslide"
    }
   },
   "outputs": [],
   "source": [
    "%matplotlib inline\n",
    "import numpy as np\n",
    "import matplotlib.pylab as plt"
   ]
  },
  {
   "cell_type": "code",
   "execution_count": 2,
   "metadata": {
    "collapsed": true
   },
   "outputs": [],
   "source": [
    "A = 1 \n",
    "rho = 0.05\n",
    "beta = 0.4\n",
    "y_US = 15\n",
    "y_IN = 1\n",
    "\n",
    "def f(x):\n",
    "    return x**beta\n",
    "\n",
    "def mpx(x):\n",
    "    return beta*x**(beta-1)\n",
    "\n",
    "def r(y, A):\n",
    "    return beta * (A**(1-beta)) * y**((beta-1)/beta)\n",
    "    \n",
    "def kap(y, A):\n",
    "    return (y/A)**(1/beta)"
   ]
  },
  {
   "cell_type": "code",
   "execution_count": 3,
   "metadata": {
    "collapsed": true
   },
   "outputs": [],
   "source": [
    "def xoptimum(rho, beta):\n",
    "    xC = (rho/beta)**(1/(beta-1))\n",
    "    xM = (rho/beta**2)**(1/(beta-1))\n",
    "    return xC, xM"
   ]
  },
  {
   "cell_type": "code",
   "execution_count": 4,
   "metadata": {
    "collapsed": true
   },
   "outputs": [],
   "source": [
    "def lucasplot():\n",
    "    y = np.linspace(0.1,20,100)\n",
    "    plt.figure(figsize=(12, 6))\n",
    "    plt.subplot(2,1,1)\n",
    "    plt.plot(y,kap(y, A))\n",
    "    plt.ylabel(\"$k$ -- capital per worker\")\n",
    "    plt.ylim(0,kap(y_US +1, A))\n",
    "    plt.axvline(y_IN,color='k',ls='dashed')\n",
    "    plt.axvline(y_US,color='k',ls='dashed')\n",
    "    plt.title(\"capital per worker\")\n",
    "\n",
    "    plt.subplot(2,1,2)\n",
    "    plt.plot(y,r(y,A))\n",
    "    plt.xlabel(\"$y$ -- output per worker\")\n",
    "    plt.ylabel(\"$4$ -- marginal product capital\")\n",
    "    plt.title(\"return to capital\")\n",
    "    plt.ylim(0,r(y_IN,A))\n",
    "    plt.axvline(y_IN,color='k',ls='dashed')\n",
    "    plt.axvline(y_US,color='k',ls='dashed')\n",
    "    plt.annotate('India', xy=(y_IN, r(y_IN,A)), xytext=(y_IN +2, r(y_IN,A)*0.75),\n",
    "                arrowprops=dict(facecolor='black', shrink=0.05),)\n",
    "    plt.annotate('USA', xy=(y_US, r(y_US,A)), xytext=(y_US +2, r(y_US,A)+0.1),\n",
    "                arrowprops=dict(facecolor='black', shrink=0.05),);"
   ]
  },
  {
   "cell_type": "code",
   "execution_count": 5,
   "metadata": {
    "collapsed": true
   },
   "outputs": [],
   "source": [
    "def profit(x, rho):\n",
    "    return  f(x) -(f(x) -mpx(x)*x) - rho*x"
   ]
  },
  {
   "cell_type": "code",
   "execution_count": 6,
   "metadata": {
    "collapsed": true
   },
   "outputs": [],
   "source": [
    "x = np.linspace(0.1,40,100)\n",
    "\n",
    "def monopolyplot(rho):\n",
    "    prf = profit(x, rho)\n",
    "    xC, xM = xoptimum(rho, beta)\n",
    "    fig, ax = plt.subplots(1, 1, figsize=(12, 6))\n",
    "    plt.plot(x,prf)\n",
    "    plt.ylim(0,max(prf)*1.1)\n",
    "    plt.title('Monopoly Profits')\n",
    "    plt.axvline(xC,ls='dashed')\n",
    "    plt.axvline(xM,ls='dashed')\n",
    "    plt.axhline(0,ls='dashed')\n",
    "    plt.xlabel(\"$x$ -- capital per worker\")\n",
    "    plt.annotate('Competitive', xy=(xC, 0), xytext=(xC+3, 0.1),\n",
    "                arrowprops=dict(facecolor='black', shrink=0.05),)\n",
    "    plt.annotate('Market Power', xy=(xM, profit(xM,rho)), xytext=(xM+3, profit(xM,rho)-0.1),\n",
    "                arrowprops=dict(facecolor='black', shrink=0.05),)\n",
    "    plt.show()"
   ]
  },
  {
   "cell_type": "code",
   "execution_count": 7,
   "metadata": {},
   "outputs": [
    {
     "data": {
      "image/png": "[encoded data removed]",
      "text/plain": [
       "<matplotlib.figure.Figure at 0x1b81192d828>"
      ]
     },
     "metadata": {},
     "output_type": "display_data"
    }
   ],
   "source": [
    "monopolyplot(0.05)"
   ]
  }
 ],
 "metadata": {
  "anaconda-cloud": {},
  "hide_input": false,
  "kernelspec": {
   "display_name": "Python 3",
   "language": "python",
   "name": "python3"
  },
  "language_info": {
   "codemirror_mode": {
    "name": "ipython",
    "version": 3
   },
   "file_extension": ".py",
   "mimetype": "text/x-python",
   "name": "python",
   "nbconvert_exporter": "python",
   "pygments_lexer": "ipython3",
   "version": "3.6.2"
  },
  "varInspector": {
   "cols": {
    "lenName": 16,
    "lenType": 16,
    "lenVar": 40
   },
   "kernels_config": {
    "python": {
     "delete_cmd_postfix": "",
     "delete_cmd_prefix": "del ",
     "library": "var_list.py",
     "varRefreshCmd": "print(var_dic_list())"
    },
    "r": {
     "delete_cmd_postfix": ") ",
     "delete_cmd_prefix": "rm(",
     "library": "var_list.r",
     "varRefreshCmd": "cat(var_dic_list()) "
    }
   },
   "types_to_exclude": [
    "module",
    "function",
    "builtin_function_or_method",
    "instance",
    "_Feature"
   ],
   "window_display": false
  }
 },
 "nbformat": 4,
 "nbformat_minor": 1
}
