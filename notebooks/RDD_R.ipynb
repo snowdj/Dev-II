{
 "cells": [
  {
   "cell_type": "markdown",
   "metadata": {
    "slideshow": {
     "slide_type": "slide"
    }
   },
   "source": [
    "# Research Discontinuity Designs (in R)\n",
    "\n",
    "This is a jupyter notebook with an R kernel running in the background to execute R code."
   ]
  },
  {
   "cell_type": "markdown",
   "metadata": {
    "slideshow": {
     "slide_type": "slide"
    }
   },
   "source": [
    "Content below draws on  \n",
    "\n",
    "- Cattaneo, Idrobo and Titiunik (2008) \"A Practical Introduction to Regression Discontinuity Designs: Part I,\" in Cambridge Elements: Quantitative and Computational Methods for Social Science, Cambridge University Press. See also \"Part II\" paper.\n",
    "\n",
    "\n",
    "- Meyersson (2014): [Islamic Rule and the Empowerment of the Poor and Pious](https://doi.org/10.3982/ecta9878), *Econometrica* 82(1): 229-269.\n",
    "\n",
    "Links to these papers and data and Stata and R code for replication at [RD Software Packages site](https://sites.google.com/site/rdpackages/replication/cit-2018-cambridge)."
   ]
  },
  {
   "cell_type": "markdown",
   "metadata": {
    "slideshow": {
     "slide_type": "slide"
    }
   },
   "source": [
    "### Sharp RD\n",
    "\n",
    "Assignment to treatment status is a deterministic and discontinuous function of a covariate (running variable or forcing variable) $X_i$. \n",
    "\n",
    "$$\n",
    "D_i= \\left\\{\n",
    "\\begin{array}{@{}ll@{}}\n",
    "    1 & \\text{if}\\ X_i\\ge X_0 \\\\\n",
    "    0 & \\text{if}\\ X_i \\lt X_0 \n",
    " \\end{array}\n",
    " \\right.\n",
    "$$\n",
    "\n",
    "where $X_0$ is a threshold or cutoff. \n",
    "\n",
    "**Example:** National Merit scholarship awarded to all students with PSAT score above some threshold. \n"
   ]
  },
  {
   "cell_type": "markdown",
   "metadata": {
    "slideshow": {
     "slide_type": "slide"
    }
   },
   "source": [
    "![sharpRD](images/sharpRD.PNG)"
   ]
  },
  {
   "cell_type": "markdown",
   "metadata": {
    "slideshow": {
     "slide_type": "slide"
    }
   },
   "source": [
    "$Y_i(1)$ and $Y_i(0)$ are potential outcomes observed under treatment or control, respectively. $E[Y_i(1)|X_i]$ observed only to right of cutoff. $E[Y_i(0)|X_i]$ only to left. \n",
    "\n",
    "Treatment effect estimated as \n",
    "\n",
    "$$\n",
    "\\tau_{SRD}=E[Y_i(1)-Y_i(0)|X_i=X_0]\n",
    "$$\n",
    "\n",
    "Local treatment effect at/near the cutoff.  In practice SRD estimate estimated as difference between weighted average of outcomes on the either side of the discontinuity. "
   ]
  },
  {
   "cell_type": "markdown",
   "metadata": {
    "slideshow": {
     "slide_type": "slide"
    }
   },
   "source": [
    "![sharpRD2](images/sharpRD2.PNG)"
   ]
  },
  {
   "cell_type": "markdown",
   "metadata": {
    "slideshow": {
     "slide_type": "subslide"
    }
   },
   "source": [
    "Conditional independence:\n",
    "\n",
    "$$E[Y_i(0) |X_i , D_i ] = E[Y_i(0) |X_i ]$$\n",
    "\n",
    "once we control for cofounder $X_i$, treatment assignment as good as random.\n",
    "\n",
    "For observations very close to the discontinuity we effectively have an experiment.\n"
   ]
  },
  {
   "cell_type": "markdown",
   "metadata": {
    "slideshow": {
     "slide_type": "slide"
    }
   },
   "source": [
    "![rdd1](images/rdd1.PNG)"
   ]
  },
  {
   "cell_type": "markdown",
   "metadata": {
    "slideshow": {
     "slide_type": "slide"
    }
   },
   "source": [
    "Non-linearity must not be mistaken for a discontinuity.  In this example with linear fits on each side, estimate a positive 'treatment' effect. More likely relationship is non-linear with zero treatment effect.\n",
    "\n",
    "![Non Linear relationship](images/rd_nonlin.png)\n"
   ]
  },
  {
   "cell_type": "markdown",
   "metadata": {
    "slideshow": {
     "slide_type": "slide"
    }
   },
   "source": [
    "\n",
    "### Meyersson (2014) \n",
    "### Identifying impacts of municipal election victories by Islamic political parties on educational attainment of women\n",
    "\n",
    "$X$   -  *running variable* \n",
    "\n",
    "$Y$   -  *outcome* women's high-school completion rate\n",
    "\n",
    "$T$   -  *treatment* Islamic party comes to power in municipal government\n"
   ]
  },
  {
   "cell_type": "code",
   "execution_count": 41,
   "metadata": {
    "slideshow": {
     "slide_type": "skip"
    }
   },
   "outputs": [],
   "source": [
    "#control the size of R plots in jupyter\n",
    "options(repr.plot.width=5, repr.plot.height=5)"
   ]
  },
  {
   "cell_type": "code",
   "execution_count": 42,
   "metadata": {
    "slideshow": {
     "slide_type": "skip"
    }
   },
   "outputs": [],
   "source": [
    "# Load R libraries\n",
    "library(foreign)\n",
    "library(ggplot2)\n",
    "library(lpdensity)\n",
    "library(rddensity)\n",
    "library(rdrobust)\n",
    "library(rdlocrand)\n",
    "library(TeachingDemos)"
   ]
  },
  {
   "cell_type": "markdown",
   "metadata": {
    "slideshow": {
     "slide_type": "slide"
    }
   },
   "source": [
    "## R Code"
   ]
  },
  {
   "cell_type": "code",
   "execution_count": 43,
   "metadata": {
    "slideshow": {
     "slide_type": "fragment"
    }
   },
   "outputs": [],
   "source": [
    "data = read.dta(\"CIT_2018_Cambridge_polecon.dta\")"
   ]
  },
  {
   "cell_type": "code",
   "execution_count": 44,
   "metadata": {
    "slideshow": {
     "slide_type": "fragment"
    }
   },
   "outputs": [],
   "source": [
    "Y = data$Y\n",
    "X = data$X\n",
    "T = data$T\n",
    "T_X = T*X"
   ]
  },
  {
   "cell_type": "markdown",
   "metadata": {
    "slideshow": {
     "slide_type": "slide"
    }
   },
   "source": [
    "**Raw Comparison of means**  (Figure 2.3a)\n",
    "\n",
    "If we simply compare outcomes in treated (Islamic major) and non-treated areas (secular major), we find lower female educational attainment in areas where Islamic parties won."
   ]
  },
  {
   "cell_type": "code",
   "execution_count": 45,
   "metadata": {
    "slideshow": {
     "slide_type": "slide"
    }
   },
   "outputs": [
    {
     "data": {
      "image/png": "[encoded data removed]",
      "text/plain": [
       "Plot with title \"\""
      ]
     },
     "metadata": {},
     "output_type": "display_data"
    }
   ],
   "source": [
    "rdplot(Y, X, nbins = c(2500, 500), p = 0, col.lines = \"red\", col.dots = \"lightgray\", title = \"\", \n",
    "       x.label = \"Islamic Margin of Victory\", y.label = \"Female High School Share\", y.lim = c(0,70))"
   ]
  },
  {
   "cell_type": "markdown",
   "metadata": {
    "slideshow": {
     "slide_type": "slide"
    }
   },
   "source": [
    "#### Local comparison of means: Narrowing the bandwidth\n",
    "\n",
    "\n",
    "In last plot we compared mean value in treated and control group.  But these two groups differ considerably.\n",
    "\n",
    "Below we focus on more 'local' effects (closer to just above and below the cutoff).  \n",
    "\n",
    "In next plot we fit a 4th degree polynomial on each side but now limit bandwidth to 'closer' contests where absolute victory margin was within 50 points."
   ]
  },
  {
   "cell_type": "code",
   "execution_count": 46,
   "metadata": {
    "slideshow": {
     "slide_type": "slide"
    }
   },
   "outputs": [
    {
     "data": {
      "image/png": "[encoded data removed]",
      "text/plain": [
       "Plot with title \"\""
      ]
     },
     "metadata": {},
     "output_type": "display_data"
    }
   ],
   "source": [
    "rdplot(Y[abs(X) <= 50], X[abs(X) <= 50], nbins = c(2500, 500), p = 4, col.lines = \"red\", \n",
    "       col.dots = \"lightgray\", title = \"\",  x.label = \"Islamic Margin of Victory\", \n",
    "       y.label = \"Female High School Share\", y.lim = c(0,70))"
   ]
  },
  {
   "cell_type": "code",
   "execution_count": 47,
   "metadata": {
    "slideshow": {
     "slide_type": "slide"
    }
   },
   "outputs": [
    {
     "data": {
      "image/png": "[encoded data removed]",
      "text/plain": [
       "Plot with title \"\""
      ]
     },
     "metadata": {},
     "output_type": "display_data"
    }
   ],
   "source": [
    "rdplot(Y[abs(X) <= 10], X[abs(X) <= 10], nbins = c(2500, 500), p = 4, col.lines = \"red\", col.dots = \"lightgray\", title = \"\", \n",
    "       x.label = \"Islamic Margin of Victory\", y.label = \"Female High School Share\", y.lim = c(0,70))"
   ]
  },
  {
   "cell_type": "markdown",
   "metadata": {},
   "source": [
    "![Meyersson ](images/Meyersson1.PNG)"
   ]
  },
  {
   "cell_type": "markdown",
   "metadata": {
    "slideshow": {
     "slide_type": "slide"
    }
   },
   "source": [
    "## RD plots\n",
    "\n",
    "- scatter plots (as above) make it hard to discern 'jumps'\n",
    "\n",
    "- RD plots aggregate or 'smooth' data before plotting. \n",
    "\n",
    "    - local sample means (from bins) represented by dots\n",
    "    \n",
    "    - polynomial (or local linear) fits\n",
    "    \n",
    "Plenty of variation in bin and bandwidth selection and curve fitting based on these concepts."
   ]
  },
  {
   "cell_type": "code",
   "execution_count": 48,
   "metadata": {
    "slideshow": {
     "slide_type": "slide"
    }
   },
   "outputs": [
    {
     "data": {
      "image/png": "[encoded data removed]",
      "text/plain": [
       "Plot with title \"\""
      ]
     },
     "metadata": {},
     "output_type": "display_data"
    }
   ],
   "source": [
    "rdplot(Y, X, nbins = c(20,20), binselect = 'esmv', x.label = 'Running Variable', y.label = 'Outcome', \n",
    "       title = '', y.lim = c(0,25))"
   ]
  },
  {
   "cell_type": "markdown",
   "metadata": {
    "slideshow": {
     "slide_type": "slide"
    }
   },
   "source": [
    "The estimating equation:\n",
    "\n",
    "$$ Y_i(0) = f(X_i) + \\epsilon _i $$\n",
    "\n",
    "$$Y_i(1) = Y_i(0) + \\beta$$\n",
    "\n",
    "All in one:\n",
    "$$\n",
    "Y_i = f(X_i) +\\beta D_i + \\epsilon_i\n",
    "$$\n",
    "\n",
    "The function $f(X_i)$ (e.g. a polynomial) must be continuous at $X_0$ "
   ]
  },
  {
   "cell_type": "markdown",
   "metadata": {
    "slideshow": {
     "slide_type": "slide"
    }
   },
   "source": [
    "The RD estimate is difference between weighted average of outcomes on the either side of the discontinuity. Fitting a high order polynomial can mean these weighted averages are driven by observations far from the threshold.\n",
    "\n",
    "Parametric (polynomial on full data) or non-parametric (local regression closer to cutoff) approaches?\n",
    "\n",
    "Andrew Gelman's [blog post from 8/13](http://andrewgelman.com/2013/08/05/evidence-on-the-impact-of-sustained-use-of-polynomial-regression-on-causal-inference-a-claim-that-coal-heating-is-reducing-lifespan-by-5-years-for-half-a-billion-people/) discusses this issue.  See also [Development Impact Blog](https://blogs.worldbank.org/impactevaluations/curves-all-wrong-places-gelman-and-imbens-why-not-use-higher-order-polynomials-rd)"
   ]
  },
  {
   "cell_type": "markdown",
   "metadata": {
    "slideshow": {
     "slide_type": "slide"
    }
   },
   "source": [
    "Chen et al (2013) \"Evidence on the impact of sustained exposure to air pollution on life expectancy from China’s Huai River policy,” *PNAS*. \n",
    "\n",
    "**Policy discontinuity**:  North of China's Huai river free coal for heating is distributed in winter. None ti the south. Using RDD method find total suspended particulates (TSPs) air pollution 55% higher just North of river compared to just south. Estimates China’s coal-burning was reducing lifespan by 5 years for half a billion people. \n"
   ]
  },
  {
   "cell_type": "markdown",
   "metadata": {
    "slideshow": {
     "slide_type": "subslide"
    }
   },
   "source": [
    "![](images/ChinaRDD.png)"
   ]
  },
  {
   "cell_type": "markdown",
   "metadata": {
    "slideshow": {
     "slide_type": "subslide"
    }
   },
   "source": [
    "Are observations far from threshold affecting polynomial fit, driving results? Smaller estimates with linear fits?"
   ]
  },
  {
   "cell_type": "markdown",
   "metadata": {
    "slideshow": {
     "slide_type": "fragment"
    }
   },
   "source": [
    "![](images/ChinaRDD2.PNG)"
   ]
  },
  {
   "cell_type": "markdown",
   "metadata": {
    "slideshow": {
     "slide_type": "slide"
    }
   },
   "source": [
    "## Fuzzy RD\n",
    "![](images/fuzzy.PNG)"
   ]
  },
  {
   "cell_type": "markdown",
   "metadata": {
    "slideshow": {
     "slide_type": "slide"
    }
   },
   "source": [
    "A fuzzy RD is like an RD with imperfect compliance or non-compliance.  Assignment to Treatment is as before summarized by indicator $I({X_i \\ge X_0})$ but compliance is now imperfect.  Like an Intent-to-Treat (ITT) estimator, the measured jump at the cutoff in the outcome needs to be rescaled.\n",
    "\n",
    "Structural equation:  $Y_i = f(X_i)+\\beta D_i +\\epsilon_i$\n",
    "\n",
    "@nd stage reduced form: $Y_i = f(X_i)+\\pi_2 I({X_i \\ge X_0} +\\xi_{2i}$"
   ]
  },
  {
   "cell_type": "markdown",
   "metadata": {
    "slideshow": {
     "slide_type": "fragment"
    }
   },
   "source": [
    "First stage: $D_i = g(X_i)+\\pi_1 I({X_i \\ge X_0} +\\xi_{1i}$"
   ]
  },
  {
   "cell_type": "markdown",
   "metadata": {
    "slideshow": {
     "slide_type": "fragment"
    }
   },
   "source": [
    "Standard IV: $ \\beta=\\frac{\\pi_2}{\\pi_1} $"
   ]
  },
  {
   "cell_type": "markdown",
   "metadata": {
    "slideshow": {
     "slide_type": "slide"
    }
   },
   "source": [
    "## Multi-Score RD design"
   ]
  },
  {
   "cell_type": "markdown",
   "metadata": {
    "slideshow": {
     "slide_type": "fragment"
    }
   },
   "source": [
    "Example: Third graders have to go to summer school if score below $X_{10}$ in reading test OR below $X_{20}$ in math test. Does summer school raise test performance next year?"
   ]
  },
  {
   "cell_type": "markdown",
   "metadata": {
    "slideshow": {
     "slide_type": "slide"
    }
   },
   "source": [
    "![](images/RDD_2force.PNG)\n",
    "From [Zamosc 2012](http://nrs.harvard.edu/urn-3:HUL.InstRepos:9368030)"
   ]
  },
  {
   "cell_type": "markdown",
   "metadata": {
    "slideshow": {
     "slide_type": "slide"
    }
   },
   "source": [
    "### Polynomial Fit in 2 dimensions"
   ]
  },
  {
   "cell_type": "markdown",
   "metadata": {
    "slideshow": {
     "slide_type": "fragment"
    }
   },
   "source": [
    "![2d polyfit](images/RDD_2force2.PNG)"
   ]
  },
  {
   "cell_type": "markdown",
   "metadata": {
    "slideshow": {
     "slide_type": "slide"
    }
   },
   "source": [
    "With two forcing variables \n",
    "- The cutoff is now a boundary\n",
    "- Heterogenous effects, depending on what segment of the boundary\n",
    "- with right assumptions (lots of data), can identify one treatment effect for every point b on boundary. Treatment effect curve $\\tau(b)$\n",
    "- Average Treatment Effect (ATE) would average over boundary"
   ]
  },
  {
   "cell_type": "markdown",
   "metadata": {
    "slideshow": {
     "slide_type": "slide"
    }
   },
   "source": [
    "## Geographic RD designs \n",
    "\n",
    "- Latitude, Longitude forcing variables. Collapse to one-dimensional distance (e.g. 'distance to border') problematic."
   ]
  },
  {
   "cell_type": "markdown",
   "metadata": {
    "slideshow": {
     "slide_type": "fragment"
    }
   },
   "source": [
    "![](images/2d_distance.PNG)\n",
    "Keele & Titiunik (2014)"
   ]
  },
  {
   "cell_type": "markdown",
   "metadata": {
    "slideshow": {
     "slide_type": "slide"
    }
   },
   "source": [
    "## Application:\n",
    "\n",
    "### Dell (2010) Persistent Effects of Peru's Mining *Mita*\n",
    "\n",
    "Dell, Melissa. 2010. “The Persistent Effects of Peru’s Mining ‘Mita.’” *Econometrica* 78 (6): 1863–1903.\n",
    "\n",
    "Continue to slide notes.\n"
   ]
  }
 ],
 "metadata": {
  "hide_input": false,
  "kernelspec": {
   "display_name": "R [conda env:Anaconda3]",
   "language": "R",
   "name": "conda-env-Anaconda3-r"
  },
  "language_info": {
   "codemirror_mode": "r",
   "file_extension": ".r",
   "mimetype": "text/x-r-source",
   "name": "R",
   "pygments_lexer": "r",
   "version": "3.4.2"
  }
 },
 "nbformat": 4,
 "nbformat_minor": 2
}
